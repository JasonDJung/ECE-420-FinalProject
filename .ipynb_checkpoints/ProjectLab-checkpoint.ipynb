{
 "cells": [
  {
   "cell_type": "code",
   "execution_count": 4,
   "metadata": {},
   "outputs": [],
   "source": [
    "import base64"
   ]
  },
  {
   "cell_type": "code",
   "execution_count": 20,
   "metadata": {},
   "outputs": [],
   "source": [
    "import cv2\n",
    "from IPython.display import clear_output, display, HTML\n",
    "import time\n",
    "import sys\n",
    "import numpy as np\n",
    "\n",
    "video = cv2.VideoCapture('test-video-segmentation.mp4')\n",
    "ok, frame = video.read()\n",
    "# Global Variables:\n",
    "\n",
    "threshhold = 20 # [10, 25] was the range in the paper\n",
    "B = 9 # Inverse learning rate = 2^9; 9 LSBs in centroids are for error term\n",
    "div = 2**B # Divide by this to get the actual centroid value\n",
    "P0 = 0.5 # Probability threshold\n",
    "# N x N x 5  Array for Weights (Assuming 5 clusters)\n",
    "weights = np.zeros((frame.shape[0], frame.shape[1], 5))\n",
    "\n",
    "# N x N x 5 x 3 Array for Centroids + Errors (Assuming 5 clusters)\n",
    "centroid_and_errors = np.zeros((frame.shape[0], frame.shape[1], 5, 3))\n",
    "\n",
    "# ***BOTH WEIGHTS AND CENTROIDS ARE SORTED FROM GREATEST TO LEAST WEIGHT***"
   ]
  },
  {
   "cell_type": "code",
   "execution_count": 70,
   "metadata": {},
   "outputs": [],
   "source": [
    "# Match the pixel with the highest-weighted cluster centroid within T Manhattan distance of the pixel color\n",
    "# Also perform error adjustment like in Algorithm 2 in the paper\n",
    "# ALSO perform cluster replacement in this function if no matching cluster is found\n",
    "def match_pixel(rgb_pixel, i, j):\n",
    "    global centroid_and_errors\n",
    "    global weights\n",
    "    global div\n",
    "    # param: (3, 256) pixel for each channel\n",
    "    # return highest-weighted cluster that matches, -1 if no match\n",
    "    # Must be sorted from greatest to least\n",
    "    for cluster_idx in range(5):\n",
    "        cluster = centroid_and_errors[cluster_idx]//div # Integer division to remove error term\n",
    "        \n",
    "        # Calculate the Manhattan Distance\n",
    "        distance = np.sum(np.abs(cluster - rgb_pixel))\n",
    "\n",
    "        if distance < threshhold:\n",
    "            centroid_and_errors[cluster_idx] += rgb_pixel - cluster # Adjust error terms\n",
    "            return cluster_idx\n",
    "    \n",
    "    # If a matching cluster was not found...\n",
    "    # Replace lowest-weighted cluster with new cluster with centroid=pixel value and weight=0.01\n",
    "    # Normalize cluster weights (this is the only time it needs to happen)\n",
    "    centroid_and_errors[i, j, 4] = rgb_pixel\n",
    "    weights[i, j, 4] = 0.01\n",
    "    weightSum = 0\n",
    "    for idx in range(5):\n",
    "        weightSum += weights[i, j, idx]\n",
    "    for idx in range(5):\n",
    "        weights[i, j, idx] /= weightSum\n",
    "    return -1 # ***Should this be the sorted index of the new centroid?***\n",
    "\n",
    "def sort_clusters():\n",
    "    global centroid_and_errors\n",
    "    global weights\n",
    "    # Sort cluster weights and centroids based on weight values, in descending order\n",
    "    for i in range(len(weights)):\n",
    "        for j in range(len(weights[i])):\n",
    "            arrinds = weights[i, j].argsort()\n",
    "            weights[i, j] = weights[i, j, arrinds[::-1]]\n",
    "            centroid_and_errors[i, j] = centroid_and_errors[i, j, arrinds[::-1]]\n",
    "\n",
    "def process_frame(frame):\n",
    "    global weights\n",
    "    global P0\n",
    "    # Find P for each pixel and threshold it\n",
    "    output = np.zeros((frame.shape[0], frame.shape[1]))\n",
    "    \n",
    "    for i in range(len(frame)):\n",
    "        for j in range(len(frame[i])):\n",
    "            pixel = frame[i, j]\n",
    "            Mk = match_pixel(pixel, i, j)\n",
    "            if Mk == -1:\n",
    "                continue # Assume pixel is part of foreground if new centroid was created (is this a good idea?)\n",
    "            elif Mk == 0:\n",
    "                output[i, j] = 1\n",
    "                continue # P = 0 if the centroid of greatest weight was selected (definitely background pixel)\n",
    "            else:\n",
    "                P = np.sum(weights[i, j, 0:Mk-1])\n",
    "                if(P < P0): # Background pixel found\n",
    "                    output[i, j] = 1\n",
    "    print(\"Done with frame\")\n",
    "    return output\n",
    "\n",
    "# If no matching cluster is found, the lowest-weighted cluster is replaced with a new cluster of low weight (0.01 in the paper)\n",
    "\n",
    "# Update all the weights according to equation 1 and add to the accumulated matching error for the matched centroid, if new cluster was not made\n",
    "\n",
    "# Normalize Weights\n",
    "# Calculate P then classify\n",
    "# Return new frame with segmentation"
   ]
  },
  {
   "cell_type": "code",
   "execution_count": 73,
   "metadata": {},
   "outputs": [
    {
     "data": {
      "text/html": [
       "<img src='data:image/jpeg;base64,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'>"
      ],
      "text/plain": [
       "<IPython.core.display.HTML object>"
      ]
     },
     "metadata": {},
     "output_type": "display_data"
    }
   ],
   "source": [
    "video = cv2.VideoCapture('test-video-segmentation.mp4')\n",
    "\n",
    "if not video.isOpened():\n",
    "    print('Could not open video!')\n",
    "else:\n",
    "    while True:\n",
    "        ret, frame = video.read()\n",
    "        if not ret:\n",
    "            break\n",
    "        else:\n",
    "            frame = cv2.resize(frame, (frame.shape[1]//3, frame.shape[0]//3))\n",
    "            clear_output(wait=True)  # Clear the previous frame\n",
    "            display(HTML(\"<img src='data:image/jpeg;base64,\" + base64.b64encode(cv2.imencode('.jpg', frame)[1]).decode() + \"'>\"))\n",
    "        time.sleep(0.01)  # Adjust the sleep duration as needed\n"
   ]
  },
  {
   "cell_type": "code",
   "execution_count": 72,
   "metadata": {},
   "outputs": [
    {
     "ename": "KeyboardInterrupt",
     "evalue": "",
     "output_type": "error",
     "traceback": [
      "\u001b[1;31m---------------------------------------------------------------------------\u001b[0m",
      "\u001b[1;31mKeyboardInterrupt\u001b[0m                         Traceback (most recent call last)",
      "\u001b[1;32m~\\AppData\\Local\\Temp\\ipykernel_9436\\3756795433.py\u001b[0m in \u001b[0;36m<module>\u001b[1;34m\u001b[0m\n\u001b[0;32m      9\u001b[0m             \u001b[1;32mbreak\u001b[0m\u001b[1;33m\u001b[0m\u001b[1;33m\u001b[0m\u001b[0m\n\u001b[0;32m     10\u001b[0m         \u001b[1;32melse\u001b[0m\u001b[1;33m:\u001b[0m\u001b[1;33m\u001b[0m\u001b[1;33m\u001b[0m\u001b[0m\n\u001b[1;32m---> 11\u001b[1;33m             \u001b[0msegmented_frame\u001b[0m \u001b[1;33m=\u001b[0m \u001b[0mprocess_frame\u001b[0m\u001b[1;33m(\u001b[0m\u001b[0mframe\u001b[0m\u001b[1;33m)\u001b[0m\u001b[1;33m\u001b[0m\u001b[1;33m\u001b[0m\u001b[0m\n\u001b[0m\u001b[0;32m     12\u001b[0m             \u001b[0msort_clusters\u001b[0m\u001b[1;33m(\u001b[0m\u001b[1;33m)\u001b[0m\u001b[1;33m\u001b[0m\u001b[1;33m\u001b[0m\u001b[0m\n\u001b[0;32m     13\u001b[0m             \u001b[0mclear_output\u001b[0m\u001b[1;33m(\u001b[0m\u001b[0mwait\u001b[0m\u001b[1;33m=\u001b[0m\u001b[1;32mTrue\u001b[0m\u001b[1;33m)\u001b[0m  \u001b[1;31m# Clear the previous frame\u001b[0m\u001b[1;33m\u001b[0m\u001b[1;33m\u001b[0m\u001b[0m\n",
      "\u001b[1;32m~\\AppData\\Local\\Temp\\ipykernel_9436\\1975588121.py\u001b[0m in \u001b[0;36mprocess_frame\u001b[1;34m(frame)\u001b[0m\n\u001b[0;32m     50\u001b[0m         \u001b[1;32mfor\u001b[0m \u001b[0mj\u001b[0m \u001b[1;32min\u001b[0m \u001b[0mrange\u001b[0m\u001b[1;33m(\u001b[0m\u001b[0mlen\u001b[0m\u001b[1;33m(\u001b[0m\u001b[0mframe\u001b[0m\u001b[1;33m[\u001b[0m\u001b[0mi\u001b[0m\u001b[1;33m]\u001b[0m\u001b[1;33m)\u001b[0m\u001b[1;33m)\u001b[0m\u001b[1;33m:\u001b[0m\u001b[1;33m\u001b[0m\u001b[1;33m\u001b[0m\u001b[0m\n\u001b[0;32m     51\u001b[0m             \u001b[0mpixel\u001b[0m \u001b[1;33m=\u001b[0m \u001b[0mframe\u001b[0m\u001b[1;33m[\u001b[0m\u001b[0mi\u001b[0m\u001b[1;33m,\u001b[0m \u001b[0mj\u001b[0m\u001b[1;33m]\u001b[0m\u001b[1;33m\u001b[0m\u001b[1;33m\u001b[0m\u001b[0m\n\u001b[1;32m---> 52\u001b[1;33m             \u001b[0mMk\u001b[0m \u001b[1;33m=\u001b[0m \u001b[0mmatch_pixel\u001b[0m\u001b[1;33m(\u001b[0m\u001b[0mpixel\u001b[0m\u001b[1;33m,\u001b[0m \u001b[0mi\u001b[0m\u001b[1;33m,\u001b[0m \u001b[0mj\u001b[0m\u001b[1;33m)\u001b[0m\u001b[1;33m\u001b[0m\u001b[1;33m\u001b[0m\u001b[0m\n\u001b[0m\u001b[0;32m     53\u001b[0m             \u001b[1;32mif\u001b[0m \u001b[0mMk\u001b[0m \u001b[1;33m==\u001b[0m \u001b[1;33m-\u001b[0m\u001b[1;36m1\u001b[0m\u001b[1;33m:\u001b[0m\u001b[1;33m\u001b[0m\u001b[1;33m\u001b[0m\u001b[0m\n\u001b[0;32m     54\u001b[0m                 \u001b[1;32mcontinue\u001b[0m \u001b[1;31m# Assume pixel is part of foreground if new centroid was created (is this a good idea?)\u001b[0m\u001b[1;33m\u001b[0m\u001b[1;33m\u001b[0m\u001b[0m\n",
      "\u001b[1;32m~\\AppData\\Local\\Temp\\ipykernel_9436\\1975588121.py\u001b[0m in \u001b[0;36mmatch_pixel\u001b[1;34m(rgb_pixel, i, j)\u001b[0m\n\u001b[0;32m     10\u001b[0m     \u001b[1;31m# Must be sorted from greatest to least\u001b[0m\u001b[1;33m\u001b[0m\u001b[1;33m\u001b[0m\u001b[0m\n\u001b[0;32m     11\u001b[0m     \u001b[1;32mfor\u001b[0m \u001b[0mcluster_idx\u001b[0m \u001b[1;32min\u001b[0m \u001b[0mrange\u001b[0m\u001b[1;33m(\u001b[0m\u001b[1;36m5\u001b[0m\u001b[1;33m)\u001b[0m\u001b[1;33m:\u001b[0m\u001b[1;33m\u001b[0m\u001b[1;33m\u001b[0m\u001b[0m\n\u001b[1;32m---> 12\u001b[1;33m         \u001b[0mcluster\u001b[0m \u001b[1;33m=\u001b[0m \u001b[0mcentroid_and_errors\u001b[0m\u001b[1;33m[\u001b[0m\u001b[0mcluster_idx\u001b[0m\u001b[1;33m]\u001b[0m\u001b[1;33m//\u001b[0m\u001b[0mdiv\u001b[0m \u001b[1;31m# Integer division to remove error term\u001b[0m\u001b[1;33m\u001b[0m\u001b[1;33m\u001b[0m\u001b[0m\n\u001b[0m\u001b[0;32m     13\u001b[0m \u001b[1;33m\u001b[0m\u001b[0m\n\u001b[0;32m     14\u001b[0m         \u001b[1;31m# Calculate the Manhattan Distance\u001b[0m\u001b[1;33m\u001b[0m\u001b[1;33m\u001b[0m\u001b[0m\n",
      "\u001b[1;31mKeyboardInterrupt\u001b[0m: "
     ]
    }
   ],
   "source": [
    "video = cv2.VideoCapture('test-video-segmentation.mp4')\n",
    "\n",
    "if not video.isOpened():\n",
    "    print('Could not open video!')\n",
    "else:\n",
    "    while True:\n",
    "        ret, frame = video.read()\n",
    "        if not ret:\n",
    "            break\n",
    "        else:\n",
    "            segmented_frame = process_frame(frame)\n",
    "            sort_clusters()\n",
    "            clear_output(wait=True)  # Clear the previous frame\n",
    "            display(HTML(\"<img src='data:image/jpeg;base64,\" + base64.b64encode(cv2.imencode('.jpg', segmented_frame)[1]).decode() + \"'>\"))\n",
    "        time.sleep(0.01)  # Adjust the sleep duration as needed\n"
   ]
  },
  {
   "cell_type": "code",
   "execution_count": null,
   "metadata": {},
   "outputs": [],
   "source": []
  },
  {
   "cell_type": "code",
   "execution_count": null,
   "metadata": {},
   "outputs": [],
   "source": []
  }
 ],
 "metadata": {
  "kernelspec": {
   "display_name": "Python 3 (ipykernel)",
   "language": "python",
   "name": "python3"
  },
  "language_info": {
   "codemirror_mode": {
    "name": "ipython",
    "version": 3
   },
   "file_extension": ".py",
   "mimetype": "text/x-python",
   "name": "python",
   "nbconvert_exporter": "python",
   "pygments_lexer": "ipython3",
   "version": "3.9.13"
  }
 },
 "nbformat": 4,
 "nbformat_minor": 2
}
