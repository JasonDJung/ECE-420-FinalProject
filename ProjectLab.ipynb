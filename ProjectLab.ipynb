{
 "cells": [
  {
   "cell_type": "code",
   "execution_count": null,
   "metadata": {},
   "outputs": [],
   "source": [
    "import cv2\n",
    "import sys\n",
    "import numpy as np\n",
    "\n",
    "video = cv2.VideoCapture('test-video-segmentation.mp4')\n",
    "ok, frame = video.read()\n",
    "# Global Variables:\n",
    "\n",
    "threshhold = 20 # [10, 25] was the range in the paper\n",
    "# N x N x 5  Array for Weights (Assuming 5 clusters)\n",
    "weights = np.zeros((frame.shape[0], frame.shape[1], 5))\n",
    "\n",
    "# N x N x 5 x 3 Array for Centroids + Errors (Assuming 5 clusters)\n",
    "centroid_and_errors = np.zeros((frame.shape[0], frame.shape[1], 5, 3))"
   ]
  },
  {
   "cell_type": "code",
   "execution_count": null,
   "metadata": {},
   "outputs": [],
   "source": [
    "# Match the pixel with the highest-weighted cluster centroid within T Manhattan distance of the pixel color\n",
    "def match_pixel(rgb_pixel, i, j):\n",
    "    # param: (3, 256) pixel for each channel\n",
    "    # return highest-weighted cluster that matches, -1 if no match\n",
    "    for cluster_idx in range(len(centroid_and_errors[i, j])):\n",
    "        cluster = centroid_and_errors[cluster_idx]\n",
    "        \n",
    "        # Calculate the Manhattan Distance\n",
    "        distance = np.sum(np.abs(cluster - rgb_pixel))\n",
    "\n",
    "        if distance < threshhold:\n",
    "            return cluster_idx\n",
    "    return -1\n",
    "\n",
    "# If no matching cluster is found, the lowest-weighted cluster is replaced with a new cluster of low weight (0.01 in the paper)\n",
    "\n",
    "# Update all the weights according to equation 1 and add to the accumulated matching error for the matched centroid, if new cluster was not made\n",
    "\n",
    "# Normalize Weights\n",
    "# Calculate P then classify\n",
    "# Return new frame with segmentation"
   ]
  },
  {
   "cell_type": "code",
   "execution_count": null,
   "metadata": {},
   "outputs": [],
   "source": [
    "\n",
    "# Main Video\n",
    "# Load video, 0 for webcam, str for path to video\n",
    "# video = cv2.VideoCapture(1)\n",
    "video = cv2.VideoCapture('test-video-segmentation.mp4')\n",
    "\n",
    "# Exit if video not opened.\n",
    "if not video.isOpened():\n",
    "    print('Could not open video!')\n",
    "    sys.exit()\n",
    "\n",
    "\n",
    "# Loop simulate Camera Preview Callback\n",
    "while True:\n",
    "    \n",
    "    cv2.waitKey(5)\n",
    "    key = cv2.waitKey(1) & 0xff\n",
    "    # User Press Enter\n",
    "    # if key == 13:\n",
    "\n",
    "    # Start timer\n",
    "    start = cv2.getTickCount()\n",
    "    # Read Next frame.\n",
    "    read_success, frame = video.read()\n",
    "\n",
    "    if not read_success:\n",
    "        print('Cannot read video file!')\n",
    "        sys.exit()\n",
    "\n",
    "    # Display result\n",
    "    cv2.imshow(\"Segmentation\", frame)"
   ]
  },
  {
   "cell_type": "code",
   "execution_count": null,
   "metadata": {},
   "outputs": [],
   "source": []
  }
 ],
 "metadata": {
  "language_info": {
   "name": "python"
  }
 },
 "nbformat": 4,
 "nbformat_minor": 2
}
